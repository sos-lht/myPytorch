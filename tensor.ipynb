{
 "cells": [
  {
   "cell_type": "code",
   "execution_count": 16,
   "metadata": {},
   "outputs": [],
   "source": [
    "import torch"
   ]
  },
  {
   "cell_type": "code",
   "execution_count": 17,
   "metadata": {},
   "outputs": [
    {
     "name": "stdout",
     "output_type": "stream",
     "text": [
      "tensor([3, 3])\n"
     ]
    }
   ],
   "source": [
    "# 构造一个默认Float型的张量\n",
    "tensor_1 = torch.tensor((3,3))\n",
    "print(tensor_1)"
   ]
  },
  {
   "cell_type": "code",
   "execution_count": 18,
   "metadata": {},
   "outputs": [
    {
     "name": "stdout",
     "output_type": "stream",
     "text": [
      "tensor([[1.5766e-19, 1.0256e-08, 4.1019e-08],\n",
      "        [3.1643e+12, 1.7340e-07, 1.7283e-04],\n",
      "        [2.7001e-06, 1.2680e+16, 2.1707e-18]])\n"
     ]
    }
   ],
   "source": [
    "# 构造一个无初始化定义的张量\n",
    "tensor_2  = torch.empty((3,3))\n",
    "print(tensor_2)"
   ]
  },
  {
   "cell_type": "code",
   "execution_count": 19,
   "metadata": {},
   "outputs": [
    {
     "name": "stdout",
     "output_type": "stream",
     "text": [
      "tensor([[0.0669, 0.4096, 0.7208],\n",
      "        [0.1035, 0.0724, 0.7507],\n",
      "        [0.7753, 0.4245, 0.6506]])\n"
     ]
    }
   ],
   "source": [
    "# 构造一个随机初始化的矩阵\n",
    "tensor_3 = torch.rand((3,3))\n",
    "print(tensor_3)"
   ]
  },
  {
   "cell_type": "markdown",
   "metadata": {},
   "source": [
    "torch.rand和torch.randn的区别：\n",
    "1、torch.rand函数生成的张量中的元素来自于均匀分布，范围在[0,1)之间，因此生成的张量中的所有元素都在[0,1)之间，不包含负值。\n",
    "2、torch.randn函数生成的张量中的元素来自于标准正态分布，这意味着这些元素具有从负无穷到正无穷的可能性，因此生成的张量中可能会包含负值。"
   ]
  },
  {
   "cell_type": "code",
   "execution_count": 20,
   "metadata": {},
   "outputs": [
    {
     "name": "stdout",
     "output_type": "stream",
     "text": [
      "tensor([[0., 0., 0.],\n",
      "        [0., 0., 0.],\n",
      "        [0., 0., 0.]])\n"
     ]
    }
   ],
   "source": [
    "# 构造一个0元素矩阵\n",
    "tensor_4 = torch.zeros((3,3))\n",
    "print(tensor_4)"
   ]
  },
  {
   "cell_type": "code",
   "execution_count": 21,
   "metadata": {},
   "outputs": [
    {
     "name": "stdout",
     "output_type": "stream",
     "text": [
      "tensor([[1., 1., 1.],\n",
      "        [1., 1., 1.],\n",
      "        [1., 1., 1.]])\n"
     ]
    }
   ],
   "source": [
    "# 构造一个1元素矩阵\n",
    "tensor_5 = torch.ones((3,3))\n",
    "print(tensor_5)"
   ]
  },
  {
   "cell_type": "code",
   "execution_count": 22,
   "metadata": {},
   "outputs": [],
   "source": [
    "import numpy as np"
   ]
  },
  {
   "cell_type": "code",
   "execution_count": 23,
   "metadata": {},
   "outputs": [
    {
     "name": "stdout",
     "output_type": "stream",
     "text": [
      "[[0.9039909  0.42705554 0.5664337 ]\n",
      " [0.4289682  0.5397436  0.75174683]\n",
      " [0.65817434 0.65714085 0.93757653]]\n"
     ]
    }
   ],
   "source": [
    "# tensor转numpy\n",
    "t1 = torch.rand((3,3))\n",
    "t1_numpy = t1.numpy()\n",
    "print(t1_numpy)"
   ]
  },
  {
   "cell_type": "code",
   "execution_count": 69,
   "metadata": {},
   "outputs": [
    {
     "name": "stdout",
     "output_type": "stream",
     "text": [
      "tensor([[1, 2, 3],\n",
      "        [4, 5, 6],\n",
      "        [7, 8, 9]])\n"
     ]
    }
   ],
   "source": [
    "# numpy转tensor\n",
    "t2_numpy = np.array([[1,2,3],[4,5,6],[7,8,9]])\n",
    "t2_torch = torch.from_numpy(t2_numpy)\n",
    "print(t2_torch)\n"
   ]
  },
  {
   "cell_type": "code",
   "execution_count": 70,
   "metadata": {},
   "outputs": [
    {
     "data": {
      "text/plain": [
       "torch.Size([3, 3])"
      ]
     },
     "execution_count": 70,
     "metadata": {},
     "output_type": "execute_result"
    }
   ],
   "source": [
    "# 查看形状\n",
    "t2_torch.shape"
   ]
  },
  {
   "cell_type": "code",
   "execution_count": 76,
   "metadata": {},
   "outputs": [
    {
     "name": "stdout",
     "output_type": "stream",
     "text": [
      "tensor([[1, 2, 3]])\n",
      "tensor([[1],\n",
      "        [2],\n",
      "        [3]])\n",
      "torch.Size([3, 1])\n"
     ]
    }
   ],
   "source": [
    "# 张量重构\n",
    "t2_torch.resize_(1,3)\n",
    "print(t2_torch)\n",
    "t2_reshape = torch.reshape(t2_torch,(3,1))\n",
    "print(t2_reshape)\n",
    "print(t2_reshape.shape)"
   ]
  },
  {
   "cell_type": "markdown",
   "metadata": {},
   "source": [
    "torch1.resize_可以改变torch1的大小；\n",
    "torch2.reshape 不会改变torch1的大小只是重构。"
   ]
  },
  {
   "cell_type": "code",
   "execution_count": 51,
   "metadata": {},
   "outputs": [
    {
     "name": "stdout",
     "output_type": "stream",
     "text": [
      "tensor([1, 2, 3, 4, 5, 6, 7, 8, 9])\n",
      "torch.Size([9])\n"
     ]
    }
   ],
   "source": [
    "# 拉伸成一维张量\n",
    "t2_torch = t2_torch.view(-1)\n",
    "print(t2_torch)\n",
    "print(t2_torch.shape)"
   ]
  },
  {
   "cell_type": "code",
   "execution_count": 49,
   "metadata": {},
   "outputs": [
    {
     "name": "stdout",
     "output_type": "stream",
     "text": [
      "torch.Size([1, 9])\n",
      "torch.Size([9])\n"
     ]
    }
   ],
   "source": [
    "# 增添维度\n",
    "t2_unsq = torch.unsqueeze(t2_torch,dim=0)\n",
    "print(t2_unsq.shape)\n",
    "\n",
    "# 删减维度\n",
    "t2_sq = torch.squeeze(t2_unsq,dim=0)\n",
    "print(t2_sq.shape)"
   ]
  },
  {
   "cell_type": "code",
   "execution_count": 84,
   "metadata": {},
   "outputs": [
    {
     "name": "stdout",
     "output_type": "stream",
     "text": [
      "tensor([[[0.3102, 0.3601, 0.0646, 0.5681],\n",
      "         [0.9583, 0.1583, 0.3125, 0.3873],\n",
      "         [0.4327, 0.8533, 0.8343, 0.1869]],\n",
      "\n",
      "        [[0.5178, 0.7171, 0.4725, 0.8342],\n",
      "         [0.1557, 0.9474, 0.8580, 0.6445],\n",
      "         [0.8351, 0.4904, 0.0109, 0.6413]]])\n",
      "torch.Size([2, 3, 4])\n",
      "--------从第1维开始压缩--------\n",
      "tensor([[0.3102, 0.3601, 0.0646, 0.5681, 0.9583, 0.1583, 0.3125, 0.3873, 0.4327,\n",
      "         0.8533, 0.8343, 0.1869],\n",
      "        [0.5178, 0.7171, 0.4725, 0.8342, 0.1557, 0.9474, 0.8580, 0.6445, 0.8351,\n",
      "         0.4904, 0.0109, 0.6413]])\n",
      "torch.Size([2, 12])\n",
      "---------压缩第0维和第1维-------\n",
      "tensor([[0.3102, 0.3601, 0.0646, 0.5681],\n",
      "        [0.9583, 0.1583, 0.3125, 0.3873],\n",
      "        [0.4327, 0.8533, 0.8343, 0.1869],\n",
      "        [0.5178, 0.7171, 0.4725, 0.8342],\n",
      "        [0.1557, 0.9474, 0.8580, 0.6445],\n",
      "        [0.8351, 0.4904, 0.0109, 0.6413]])\n",
      "torch.Size([6, 4])\n"
     ]
    }
   ],
   "source": [
    "# 将两个维度间的元素进行拉伸\n",
    "# flatten:张量（c,w,h）,start_dim=0,end_dim=1 -->(cw,h)\n",
    "t1 = torch.rand(2,3,4)\n",
    "print(t1)\n",
    "print(t1.shape)\n",
    "print(\"--------从第1维开始压缩--------\")\n",
    "t1_flatten = torch.flatten(t1,start_dim=1)\n",
    "print(t1_flatten)\n",
    "print(t1_flatten.shape) \n",
    "print(\"---------压缩第0维和第1维-------\")\n",
    "t1_flatten2 = torch.flatten(t1,start_dim=0,end_dim=1)\n",
    "print(t1_flatten2)\n",
    "print(t1_flatten2.shape)"
   ]
  },
  {
   "cell_type": "markdown",
   "metadata": {},
   "source": [
    "#### 拼接和拆分：  \n",
    "在神经网络的前向传播过程中，往往需要对多个分支的张量加以融合或拆分"
   ]
  },
  {
   "cell_type": "code",
   "execution_count": 99,
   "metadata": {},
   "outputs": [
    {
     "name": "stdout",
     "output_type": "stream",
     "text": [
      "torch.Size([1, 3, 512, 256])\n",
      "torch.Size([1, 1, 512, 256])\n"
     ]
    }
   ],
   "source": [
    "t3 = torch.randn(1,3,256,256) #构建维度为[1,3,256,256]、元素随机的tensor3\n",
    "t4 = torch.randn(1,3,256,256)\n",
    "\n",
    "# 在dim维度上融合\n",
    "t_cat = torch.cat((t3,t4),dim=2)      #CV中常用\n",
    "#t_stack = torch.stack((t3,t4),dim=2) #NLP中常用，会保留原有的tensor序列\n",
    "print(t_cat.shape) \n",
    "\n",
    "# 拆分\n",
    "# chunk:\n",
    "t_chunk = torch.chunk(t_cat,chunks=3,dim=1)\n",
    "print(t_chunk[1].shape)"
   ]
  },
  {
   "cell_type": "markdown",
   "metadata": {},
   "source": [
    "`torch.chunk(input, chunks, dim=0)`  \n",
    "input：需要被分块的张量。  \n",
    "chunks：要分成的块数。  \n",
    "dim：指定分块的维度，默认为 0。"
   ]
  },
  {
   "cell_type": "markdown",
   "metadata": {},
   "source": [
    "### 基本运算方法"
   ]
  },
  {
   "cell_type": "code",
   "execution_count": 104,
   "metadata": {},
   "outputs": [],
   "source": [
    "a = torch.ones(1,2)\n",
    "b = torch.ones(1,2)\n",
    "c = torch.ones(2,2)\n",
    "# 基本运算方法\n",
    "add = a + b\n",
    "sub = a - b\n",
    "div = a / b\n",
    "mul = a * c  # 也可以用@或用torch.matmul(a,c)\n",
    "max = c.max()\n",
    "min = c.min()\n",
    "\n",
    "# 转置\n",
    "a_T = a.T\n",
    "\n",
    "# 把数组展平为一维数组\n",
    "a_ravel = a.ravel()"
   ]
  },
  {
   "cell_type": "markdown",
   "metadata": {},
   "source": [
    "### 实现简单的反向传播\n"
   ]
  },
  {
   "cell_type": "code",
   "execution_count": 108,
   "metadata": {},
   "outputs": [],
   "source": [
    "import torch\n",
    "\n",
    "x = torch.Tensor([2])\n",
    "# 初始化权重参数W，偏移量为b,并设置requires_grad=True，为自动求导\n",
    "w = torch.randn(1,requires_grad=True)\n",
    "b = torch.randn(1,requires_grad=True)\n",
    "z = w*x + b\n",
    "z.backward()  # 标量进行反向传播，向量则需要构造梯度矩阵\n"
   ]
  },
  {
   "cell_type": "markdown",
   "metadata": {},
   "source": [
    "### 常用接口\n",
    "<img src=\"/mnt/mydisk2/myPytorch/pic/PyTorch API汇总.png\" alt=\"FAO\" width=\"790\">\n"
   ]
  },
  {
   "cell_type": "code",
   "execution_count": 4,
   "metadata": {},
   "outputs": [
    {
     "name": "stdout",
     "output_type": "stream",
     "text": [
      "3.7416573867739413\n",
      "0.9746318461970762\n"
     ]
    }
   ],
   "source": [
    "import numpy as np\n",
    "\n",
    "vector1 = np.array([1,2,3])\n",
    "vector2 = np.array([4,5,6])\n",
    "\n",
    "dot_product = np.dot(vector1,vector2)\n",
    "\n",
    "vector_length_1 = np.linalg.norm(vector1)\n",
    "vector_length_2 = np.linalg.norm(vector2)\n",
    "\n",
    "print(vector_length_1)\n",
    "\n",
    "cosine_similarity = dot_product / (vector_length_1 * vector_length_2)\n",
    "\n",
    "print(cosine_similarity)"
   ]
  }
 ],
 "metadata": {
  "kernelspec": {
   "display_name": "Python 3.8.13 ('env1')",
   "language": "python",
   "name": "python3"
  },
  "language_info": {
   "codemirror_mode": {
    "name": "ipython",
    "version": 3
   },
   "file_extension": ".py",
   "mimetype": "text/x-python",
   "name": "python",
   "nbconvert_exporter": "python",
   "pygments_lexer": "ipython3",
   "version": "3.8.13"
  },
  "orig_nbformat": 4,
  "vscode": {
   "interpreter": {
    "hash": "bc8c60f99e2e962c0e4a3e9c9f27c1bb5f2a586f6d03b97348d9b6648bd2cf92"
   }
  }
 },
 "nbformat": 4,
 "nbformat_minor": 2
}

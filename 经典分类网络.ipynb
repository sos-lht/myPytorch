{
 "cells": [
  {
   "cell_type": "markdown",
   "metadata": {},
   "source": [
    "# 经典网络\n",
    "<img src=\"/mnt/mydisk2/myPytorch/pic/经典网络.png\" alt=\"FAO\" width=\"790\">\n",
    "\n",
    "## LeNet:\n",
    "<img src=\"/mnt/mydisk2/myPytorch/pic/LeNet.png\" alt=\"FAO\" width=\"790\">\n",
    "\n",
    "## AlexNet:\n",
    "<img src=\"/mnt/mydisk2/myPytorch/pic/AlexNet.png\" alt=\"FAO\" width=\"790\">\n",
    "\n",
    "## VGGNet:\n",
    "<img src=\"/mnt/mydisk2/myPytorch/pic/VGGNet.png\" alt=\"FAO\" width=\"790\">\n",
    "\n",
    "## GoogleNet:\n",
    "<img src=\"/mnt/mydisk2/myPytorch/pic/GoogleNet.png\" alt=\"FAO\" width=\"790\">\n",
    "\n",
    "## ResNet:\n",
    "<img src=\"/mnt/mydisk2/myPytorch/pic/ResNet.png\" alt=\"FAO\" width=\"790\">\n",
    "\n",
    "## SENet:\n",
    "<img src=\"/mnt/mydisk2/myPytorch/pic/SENet.png\" alt=\"FAO\" width=\"790\">\n",
    "\n",
    "## SKNet:\n",
    "<img src=\"/mnt/mydisk2/myPytorch/pic/SKNet.png\" alt=\"FAO\" width=\"790\">"
   ]
  }
 ],
 "metadata": {
  "kernelspec": {
   "display_name": "Python 3.8.13 ('env1')",
   "language": "python",
   "name": "python3"
  },
  "language_info": {
   "name": "python",
   "version": "3.8.13"
  },
  "orig_nbformat": 4,
  "vscode": {
   "interpreter": {
    "hash": "bc8c60f99e2e962c0e4a3e9c9f27c1bb5f2a586f6d03b97348d9b6648bd2cf92"
   }
  }
 },
 "nbformat": 4,
 "nbformat_minor": 2
}

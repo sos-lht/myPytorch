{
 "cells": [
  {
   "cell_type": "markdown",
   "metadata": {},
   "source": [
    "# Pytorch 中的模型加载与保存\n",
    "### 1、基本概念\n",
    "&emsp;&emsp;对于训练好的模型，我们需要对其参数进行保存，并在新的应用场景下完成加载，以实现模型的实际应用。  \n",
    "&emsp;&emsp;在PyTorch中，模型的保存和加载通常通过torch.save和torch.load两个指令来实现\n",
    "### 2、代码示例\n",
    "- 第一种：保存或加载整个模型"
   ]
  },
  {
   "cell_type": "code",
   "execution_count": 1,
   "metadata": {},
   "outputs": [
    {
     "ename": "NameError",
     "evalue": "name 'model' is not defined",
     "output_type": "error",
     "traceback": [
      "\u001b[0;31m---------------------------------------------------------------------------\u001b[0m",
      "\u001b[0;31mNameError\u001b[0m                                 Traceback (most recent call last)",
      "Cell \u001b[0;32mIn[1], line 4\u001b[0m\n\u001b[1;32m      1\u001b[0m \u001b[39mimport\u001b[39;00m \u001b[39mtorch\u001b[39;00m\n\u001b[1;32m      3\u001b[0m \u001b[39m#保存\u001b[39;00m\n\u001b[0;32m----> 4\u001b[0m torch\u001b[39m.\u001b[39msave(model,\u001b[39m'\u001b[39m\u001b[39m\\\u001b[39m\u001b[39mmodel.pkl\u001b[39m\u001b[39m'\u001b[39m)\n\u001b[1;32m      6\u001b[0m \u001b[39m#加载\u001b[39;00m\n\u001b[1;32m      7\u001b[0m model \u001b[39m=\u001b[39m torch\u001b[39m.\u001b[39mload(\u001b[39m'\u001b[39m\u001b[39m\\\u001b[39m\u001b[39mmodel.pkl\u001b[39m\u001b[39m'\u001b[39m)\n",
      "\u001b[0;31mNameError\u001b[0m: name 'model' is not defined"
     ]
    }
   ],
   "source": [
    "import torch\n",
    "\n",
    "#保存\n",
    "torch.save(model,'\\model.pkl')\n",
    "\n",
    "#加载\n",
    "model = torch.load('\\model.pkl')"
   ]
  },
  {
   "cell_type": "markdown",
   "metadata": {},
   "source": [
    "&emsp;&emsp;<u>模型的后缀可以是pkl、pth等多种格式。</u>这种保存方式能够将模型的所有内容均保存到文件当中。\n",
    "- 第二种：只保存或加载模型的参数\n"
   ]
  },
  {
   "cell_type": "code",
   "execution_count": null,
   "metadata": {},
   "outputs": [],
   "source": [
    "import torch\n",
    "\n",
    "# 保存\n",
    "torch.save(model.state_dict(),'\\parameter.pkl')\n",
    "\n",
    "# 加载\n",
    "model = TheModelClass()\n",
    "model.load_state_dict(torch.load('\\parameter.pkl'))"
   ]
  },
  {
   "cell_type": "markdown",
   "metadata": {},
   "source": [
    "&emsp;&emsp;state_dict 只是一个Python字典对象，它将每个图层映射到其参数tensor。请注意，只有具有可学习参数的层(卷积层，线性层等) 和已注册的缓冲区 (batchnorm的running_mean)才在模型的state_dict中存在"
   ]
  }
 ],
 "metadata": {
  "kernelspec": {
   "display_name": "Python 3.8.13 ('env1')",
   "language": "python",
   "name": "python3"
  },
  "language_info": {
   "codemirror_mode": {
    "name": "ipython",
    "version": 3
   },
   "file_extension": ".py",
   "mimetype": "text/x-python",
   "name": "python",
   "nbconvert_exporter": "python",
   "pygments_lexer": "ipython3",
   "version": "3.8.13"
  },
  "orig_nbformat": 4,
  "vscode": {
   "interpreter": {
    "hash": "bc8c60f99e2e962c0e4a3e9c9f27c1bb5f2a586f6d03b97348d9b6648bd2cf92"
   }
  }
 },
 "nbformat": 4,
 "nbformat_minor": 2
}
